{
 "cells": [
  {
   "cell_type": "markdown",
   "metadata": {},
   "source": [
    "# Land Cover Classification\n",
    "### Objective: Classify an image using the Scenes API and SciKit Learn\n",
    "\n",
    "This image classification uses the Scenes API to filter the Hyperspectral Collection imagery over Russia. The tutorial uses GDAL to rasterize training data and scikit-learn to train and run a Random Forest Classification. We begin by importing the necessary libraries."
   ]
  },
  {
   "cell_type": "code",
   "execution_count": 1,
   "metadata": {},
   "outputs": [],
   "source": [
    "import descarteslabs as dl\n",
    "from osgeo import gdal\n",
    "import os\n",
    "import numpy as np\n",
    "import scipy\n",
    "from matplotlib import colors\n",
    "from sklearn.ensemble import RandomForestClassifier \n",
    "from skimage.segmentation import quickshift, felzenszwalb\n",
    "from skimage import exposure\n",
    "from sklearn import metrics\n",
    "import matplotlib.pyplot as plt\n",
    "# %matplotlib inline"
   ]
  },
  {
   "cell_type": "markdown",
   "metadata": {},
   "source": [
    "The GeoJSON feature defined below is a rectangle containing a lake, forest, and plantations. This feature will be used to search for imagery and as the extent of our analysis."
   ]
  },
  {
   "cell_type": "code",
   "execution_count": 2,
   "metadata": {},
   "outputs": [],
   "source": [
    "region = {\"type\":\"Feature\",\"geometry\":{\"type\":\"Polygon\",\"coordinates\":[[[59.74743751447837,54.450086973406485],[59.79886913062678,54.450086973406485],[59.79886913062678,54.504898909776074],[59.74743751447837,54.504898909776074],[59.74743751447837,54.450086973406485]]]}}"
   ]
  },
  {
   "cell_type": "markdown",
   "metadata": {},
   "source": [
    "## Get data from Raster API "
   ]
  },
  {
   "cell_type": "markdown",
   "metadata": {},
   "source": [
    "The `metadata` and `raster` APIs allow you to query our catalog of imagery. Here, we specify the geometry, product, and date parameters to reflect the available hyperspectral imagery. The `search` method a list containing metdata of all matching scenes. We use list comprehension to extract their ids to access their data through the `raster` API."
   ]
  },
  {
   "cell_type": "code",
   "execution_count": 3,
   "metadata": {},
   "outputs": [
    {
     "name": "stdout",
     "output_type": "stream",
     "text": [
      "10\n"
     ]
    }
   ],
   "source": [
    "scenes = dl.metadata.search(region['geometry'],\n",
    "                    product=\"ed08ce8609216626e16e25cbd89f7757f48bee3d:hyperion:dev\",\n",
    "                    start_datetime=\"2004-07-31\",\n",
    "                    end_datetime=\"2004-12-31\",\n",
    "                    limit=10\n",
    "                   )\n",
    "\n",
    "ids = [f['id'] for f in scenes['features']]\n",
    "print(len(ids))"
   ]
  },
  {
   "cell_type": "code",
   "execution_count": 5,
   "metadata": {},
   "outputs": [
    {
     "name": "stdout",
     "output_type": "stream",
     "text": [
      "(208, 119, 242)\n"
     ]
    }
   ],
   "source": [
    "arr, meta = dl.raster.ndarray(\n",
    "    ids,\n",
    "    data_type='Int16',\n",
    "    resolution=30,\n",
    "    cutline=region['geometry']\n",
    "    )\n",
    "\n",
    "composite = arr \n",
    "\n",
    "print(composite.shape)"
   ]
  },
  {
   "cell_type": "markdown",
   "metadata": {},
   "source": [
    "The output is a tuple, where the second item contains `metadata` information we can extract to rasterize our training data. "
   ]
  },
  {
   "cell_type": "code",
   "execution_count": 33,
   "metadata": {},
   "outputs": [],
   "source": [
    "geo_transform = meta['geoTransform']\n",
    "proj= meta['coordinateSystem']['wkt']\n",
    "rows, cols, bands = composite.shape"
   ]
  },
  {
   "cell_type": "markdown",
   "metadata": {},
   "source": [
    "## Write helper functions to rasterize vector \n",
    "We need a library of functions to rasterize our training data."
   ]
  },
  {
   "cell_type": "code",
   "execution_count": 38,
   "metadata": {},
   "outputs": [],
   "source": [
    "def create_mask_from_vector(vector_data_path, cols, rows, geo_transform,\n",
    "                            projection, target_value=1):\n",
    "    \"\"\"Rasterize the given vector (wrapper for gdal.RasterizeLayer).\"\"\"\n",
    "    data_source = gdal.OpenEx(vector_data_path, gdal.OF_VECTOR)\n",
    "    print(data_source)\n",
    "    layer = data_source.GetLayer(0)\n",
    "    driver = gdal.GetDriverByName('MEM')  # In memory dataset\n",
    "    target_ds = driver.Create('', cols, rows, 1, gdal.GDT_UInt16)\n",
    "    target_ds.SetGeoTransform(geo_transform)\n",
    "    target_ds.SetProjection(projection)\n",
    "    gdal.RasterizeLayer(target_ds, [1], layer, burn_values=[target_value])\n",
    "    return target_ds\n",
    "\n",
    "\n",
    "def vectors_to_raster(file_paths, rows, cols, geo_transform, projection):\n",
    "    \"\"\"Rasterize the vectors in the given directory in a single image.\"\"\"\n",
    "    labeled_pixels = np.zeros((rows, cols))\n",
    "    print\n",
    "    for i, path in enumerate(file_paths):\n",
    "        label = i+1\n",
    "        print(path)\n",
    "        print(cols)\n",
    "        print(rows)\n",
    "        ds = create_mask_from_vector(path, cols, rows, geo_transform,\n",
    "                                     projection, target_value=label)\n",
    "        band = ds.GetRasterBand(1)\n",
    "        labeled_pixels += band.ReadAsArray()\n",
    "        ds = None\n",
    "    return labeled_pixels\n",
    "\n",
    "\n",
    "def write_geotiff(fname, data, geo_transform, projection):\n",
    "    \"\"\"Create a GeoTIFF file with the given data.\"\"\"\n",
    "    driver = gdal.GetDriverByName('GTiff')\n",
    "    rows, cols = data.shape\n",
    "    dataset = driver.Create(fname, cols, rows, 1, gdal.GDT_Byte)\n",
    "    dataset.SetGeoTransform(geo_transform)\n",
    "    dataset.SetProjection(projection)\n",
    "    band = dataset.GetRasterBand(1)\n",
    "    band.WriteArray(data)\n",
    "    dataset = None  # Close the file"
   ]
  },
  {
   "cell_type": "markdown",
   "metadata": {},
   "source": [
    "## Load training data\n",
    "\n",
    "The data used to train the classifier are individual shapefiles being read in from a file. "
   ]
  },
  {
   "cell_type": "code",
   "execution_count": 19,
   "metadata": {},
   "outputs": [],
   "source": [
    "train_data_path = \"hyperion_training_data/train\"\n",
    "test_data_path = \"hyperion_training_data/test\""
   ]
  },
  {
   "cell_type": "code",
   "execution_count": 11,
   "metadata": {},
   "outputs": [
    {
     "name": "stdout",
     "output_type": "stream",
     "text": [
      "There are 3 classes:\n",
      "water_train\n",
      "field_train\n",
      "forest_train\n"
     ]
    }
   ],
   "source": [
    "files = [f for f in os.listdir(train_data_path) if f.endswith('.shp')]\n",
    "class_labels = [f.split('.')[0] for f in files]\n",
    "print(\"There are {} classes:\".format(len(class_labels)))\n",
    "for c in class_labels:\n",
    "    print(c)\n",
    " \n",
    "shapefiles = [os.path.join(train_data_path, f)\n",
    "              for f in files if f.endswith('.shp')]\n",
    "\n",
    "labeled_pixels = vectors_to_raster(shapefiles, rows, cols, geo_transform,\n",
    "                                   proj)\n",
    "is_train = np.nonzero(labeled_pixels)\n",
    "training_labels = labeled_pixels[is_train]\n",
    "training_samples = composite[is_train]"
   ]
  },
  {
   "cell_type": "code",
   "execution_count": 12,
   "metadata": {},
   "outputs": [
    {
     "data": {
      "text/plain": [
       "3"
      ]
     },
     "execution_count": 12,
     "metadata": {},
     "output_type": "execute_result"
    }
   ],
   "source": [
    "ground_truth = vectors_to_raster(shapefiles, 208, 119, geo_transform, proj)\n",
    "classes = np.unique(labeled_pixels)[1:]  # 0 doesn't count\n",
    "len(classes)"
   ]
  },
  {
   "cell_type": "markdown",
   "metadata": {},
   "source": [
    "## Classification"
   ]
  },
  {
   "cell_type": "markdown",
   "metadata": {},
   "source": [
    "Train the classifier and run the land cover classification."
   ]
  },
  {
   "cell_type": "code",
   "execution_count": 14,
   "metadata": {},
   "outputs": [
    {
     "data": {
      "text/plain": [
       "RandomForestClassifier(bootstrap=True, class_weight=None, criterion='gini',\n",
       "            max_depth=None, max_features='auto', max_leaf_nodes=None,\n",
       "            min_impurity_decrease=0.0, min_impurity_split=None,\n",
       "            min_samples_leaf=1, min_samples_split=2,\n",
       "            min_weight_fraction_leaf=0.0, n_estimators=10, n_jobs=-1,\n",
       "            oob_score=False, random_state=None, verbose=0,\n",
       "            warm_start=False)"
      ]
     },
     "execution_count": 14,
     "metadata": {},
     "output_type": "execute_result"
    }
   ],
   "source": [
    "classifier = RandomForestClassifier(n_jobs=-1)\n",
    "classifier.fit(training_samples, training_labels)"
   ]
  },
  {
   "cell_type": "code",
   "execution_count": 15,
   "metadata": {},
   "outputs": [],
   "source": [
    "n_samples = rows*cols\n",
    "flat_pixels = composite.reshape((n_samples, bands))\n",
    "result = classifier.predict(flat_pixels)\n",
    "classification = result.reshape((rows, cols))"
   ]
  },
  {
   "cell_type": "code",
   "execution_count": 17,
   "metadata": {},
   "outputs": [
    {
     "data": {
      "text/plain": [
       "Text(0.5,1,'Classified Landcover')"
      ]
     },
     "execution_count": 17,
     "metadata": {},
     "output_type": "execute_result"
    },
    {
     "data": {
      "image/png": "[encoded data removed]",
      "text/plain": [
       "<Figure size 720x720 with 1 Axes>"
      ]
     },
     "metadata": {},
     "output_type": "display_data"
    }
   ],
   "source": [
    "plt.figure(figsize=[10,10])\n",
    "plt.imshow(classification)\n",
    "plt.title('Classified Landcover')"
   ]
  }
 ],
 "metadata": {
  "kernelspec": {
   "display_name": "landcover",
   "language": "python",
   "name": "landcover"
  },
  "language_info": {
   "codemirror_mode": {
    "name": "ipython",
    "version": 3
   },
   "file_extension": ".py",
   "mimetype": "text/x-python",
   "name": "python",
   "nbconvert_exporter": "python",
   "pygments_lexer": "ipython3",
   "version": "3.6.5"
  }
 },
 "nbformat": 4,
 "nbformat_minor": 2
}
