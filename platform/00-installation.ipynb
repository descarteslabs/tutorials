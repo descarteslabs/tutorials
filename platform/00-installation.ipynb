{
 "cells": [
  {
   "cell_type": "markdown",
   "metadata": {},
   "source": [
    "# Introduction\n",
    "________________________"
   ]
  },
  {
   "cell_type": "markdown",
   "metadata": {},
   "source": [
    "## Installing Descartes Labs\n",
    "_________________\n",
    "\n",
    "The Descartes Labs Platform is a set of web-based APIs and UI tools. We can use the DL Platform to search for and access a wide set of analysis ready datasets, build and deploy models, and create and share derived products. The `descarteslabs` package is a Python client that makes working with the API much easier. For a more extensive installation guide, see this [article](https://docs.descarteslabs.com/installation.html). To setup a virtual enviroment follow this [guide](https://docs.descarteslabs.com/installation-conda.html)."
   ]
  },
  {
   "cell_type": "code",
   "execution_count": null,
   "metadata": {},
   "outputs": [],
   "source": [
    "!pip3 install descarteslabs"
   ]
  },
  {
   "cell_type": "markdown",
   "metadata": {},
   "source": [
    "Let's check that we can import the library. "
   ]
  },
  {
   "cell_type": "code",
   "execution_count": 1,
   "metadata": {},
   "outputs": [],
   "source": [
    "import descarteslabs as dl"
   ]
  },
  {
   "cell_type": "code",
   "execution_count": 2,
   "metadata": {},
   "outputs": [
    {
     "data": {
      "text/plain": [
       "'0.24.0'"
      ]
     },
     "execution_count": 2,
     "metadata": {},
     "output_type": "execute_result"
    }
   ],
   "source": [
    "dl.__version__"
   ]
  },
  {
   "cell_type": "markdown",
   "metadata": {},
   "source": [
    "## Authentication\n",
    "________________________\n",
    "\n",
    "To authenticate your identity, run the cells below. You should see a webpage with a login. After your credentials are autheticated, you will be able to copy a security token."
   ]
  },
  {
   "cell_type": "code",
   "execution_count": null,
   "metadata": {},
   "outputs": [],
   "source": [
    "import IPython.display as dsp\n",
    "dsp.IFrame(\"https://iam.descarteslabs.com/auth/credentials\", width=\"100%\", height=\"400px\")"
   ]
  },
  {
   "cell_type": "markdown",
   "metadata": {},
   "source": [
    "Paste the token here and it should save the token into your local path. If authentication is successful you should see a welcome message."
   ]
  },
  {
   "cell_type": "code",
   "execution_count": null,
   "metadata": {},
   "outputs": [],
   "source": [
    "TOKEN = input(\"Paste token here: \")\n",
    "\n",
    "import json\n",
    "import os\n",
    "token_info_path = dl.client.auth.auth.DEFAULT_TOKEN_INFO_PATH\n",
    "token_info_dir = os.path.dirname(token_info_path)\n",
    "dl.client.auth.auth.makedirs_if_not_exists(token_info_dir)\n",
    "with open(token_info_path, \"w\") as f:\n",
    "    json.dump({\"JWT_TOKEN\": TOKEN}, f)\n",
    "\n",
    "print(\"Logged in as {}\".format(dl.Auth().payload['name']))"
   ]
  },
  {
   "cell_type": "markdown",
   "metadata": {},
   "source": [
    "The above method to autheticate should create a temporary token. To login with a refresh token that will create a more presistent login, follow this [guide](https://docs.descarteslabs.com/authentication.html)."
   ]
  },
  {
   "cell_type": "code",
   "execution_count": null,
   "metadata": {},
   "outputs": [],
   "source": [
    "!descarteslabs auth login"
   ]
  },
  {
   "cell_type": "markdown",
   "metadata": {},
   "source": [
    "Finally, let's check that we have authenticated to the APIs. This should list various datasets that we have access to."
   ]
  },
  {
   "cell_type": "code",
   "execution_count": 4,
   "metadata": {},
   "outputs": [],
   "source": [
    "dl.metadata.available_products()"
   ]
  },
  {
   "cell_type": "markdown",
   "metadata": {},
   "source": [
    "## Other Libraries\n",
    "________________\n",
    "\n",
    "Below is a list of other libraries that may be useful. Several of these are used in subsequent notebook guides.\n",
    "\n",
    "* [`numpy`](https://numpy.org/): numerical computing\n",
    "\n",
    "* [`matplotlib`](https://matplotlib.org/): plotting library\n",
    "\n",
    "* [`tensorflow`](https://www.tensorflow.org/): machine learning library\n",
    "\n",
    "* [`ipyleaflet`](https://ipyleaflet.readthedocs.io/en/latest/): interactive mapping\n",
    "\n",
    "* [`pandas`](https://pandas.pydata.org/) and [`geopandas`](http://geopandas.org/): libraries to work with dataframes\n",
    "\n",
    "* [`shapely`](https://shapely.readthedocs.io/en/latest/): geospatial data manipulation library \n",
    "\n",
    "* [`pyproj`](http://pyproj4.github.io/pyproj/stable/): geospatial coordinate transformation"
   ]
  }
 ],
 "metadata": {
  "kernelspec": {
   "display_name": "Python 3",
   "language": "python",
   "name": "python3"
  },
  "language_info": {
   "codemirror_mode": {
    "name": "ipython",
    "version": 3
   },
   "file_extension": ".py",
   "mimetype": "text/x-python",
   "name": "python",
   "nbconvert_exporter": "python",
   "pygments_lexer": "ipython3",
   "version": "3.6.8"
  }
 },
 "nbformat": 4,
 "nbformat_minor": 2
}
