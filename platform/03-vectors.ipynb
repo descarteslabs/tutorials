{
 "cells": [
  {
   "cell_type": "markdown",
   "metadata": {},
   "source": [
    "# Vectors\n",
    "_____________________________________________"
   ]
  },
  {
   "cell_type": "markdown",
   "metadata": {},
   "source": [
    "## Interacting with Vectors\n",
    "_______________________________\n",
    "\n",
    "The Descartes Labs [Vectors](https://docs.descarteslabs.com/descarteslabs/vectors/readme.html) service is a tool to interact with objects that have a geospatial extent (polygons, points) and key-value properties. Common vector data might be polygons, lines, and points. Common data that might be represented as vector data include country boundries, rivers, and roads. The DL vector service allows GeoJSON geometries to include numeric or text property fields which is useful for labeling objects. Vectors is also designed to scale well to collections with hundreds of millions of entries. Here we will investigate the [Microsoft Buildings dataset](https://blogs.bing.com/maps/2018-06/microsoft-releases-125-million-building-footprints-in-the-us-as-open-data), a set of 125 million building footprints."
   ]
  },
  {
   "cell_type": "markdown",
   "metadata": {},
   "source": [
    "A [FeatureCollection](https://docs.descarteslabs.com/descarteslabs/vectors/docs/featurecollection.html) is a proxy object for accesssing millions of features within a vector product. We can list the available products that are visable to us using [list](https://docs.descarteslabs.com/descarteslabs/vectors/docs/featurecollection.html#descarteslabs.vectors.featurecollection.FeatureCollection.list)."
   ]
  },
  {
   "cell_type": "code",
   "execution_count": 1,
   "metadata": {},
   "outputs": [
    {
     "data": {
      "text/plain": [
       "65"
      ]
     },
     "execution_count": 1,
     "metadata": {},
     "output_type": "execute_result"
    }
   ],
   "source": [
    "import descarteslabs as dl\n",
    "fc_list = dl.vectors.FeatureCollection.list()\n",
    "len(fc_list)"
   ]
  },
  {
   "cell_type": "code",
   "execution_count": 2,
   "metadata": {},
   "outputs": [
    {
     "name": "stdout",
     "output_type": "stream",
     "text": [
      "noaa_tornado_reports\n",
      "us_congressional_districts_area\n",
      "us_cities_area\n"
     ]
    }
   ],
   "source": [
    "for fc in fc_list[:3]:\n",
    "    print(fc.name)"
   ]
  },
  {
   "cell_type": "markdown",
   "metadata": {},
   "source": [
    "To access a specific product, we can call a FeatureCollection with a product id. "
   ]
  },
  {
   "cell_type": "code",
   "execution_count": 3,
   "metadata": {},
   "outputs": [],
   "source": [
    "buildings = dl.vectors.FeatureCollection('a35126a241bd022c026e96ab9fe5e0ea23967d08:USBuildingFootprints')"
   ]
  },
  {
   "cell_type": "code",
   "execution_count": 4,
   "metadata": {},
   "outputs": [
    {
     "data": {
      "application/json": {
       "description": "This dataset contains 125,192,184 computer generated building footprints in all 50 US states. This data is freely available for download and use.  https://github.com/Microsoft/USBuildingFootprints",
       "id": "a35126a241bd022c026e96ab9fe5e0ea23967d08:USBuildingFootprints",
       "name": null,
       "title": "Computer generated building footprints for the United States"
      },
      "text/plain": [
       "FeatureCollection({\n",
       "  'description': 'This dataset contains 125,192,184 computer...//github.com/Microsoft/USBuildingFootprints',\n",
       "  'id': 'a35126a241bd022c026e96ab9fe5e0ea23967d08:USBuildingFootprints',\n",
       "  'name': None,\n",
       "  'title': 'Computer generated building footprints for the United States'\n",
       "})"
      ]
     },
     "execution_count": 4,
     "metadata": {},
     "output_type": "execute_result"
    }
   ],
   "source": [
    "buildings"
   ]
  },
  {
   "cell_type": "code",
   "execution_count": 5,
   "metadata": {},
   "outputs": [
    {
     "data": {
      "text/plain": [
       "125192180"
      ]
     },
     "execution_count": 5,
     "metadata": {},
     "output_type": "execute_result"
    }
   ],
   "source": [
    "buildings.count()"
   ]
  },
  {
   "cell_type": "markdown",
   "metadata": {},
   "source": [
    "Because the product contains so many vector objects, it would be impossible to work with all of them at once. Instead we can query for those we need. Like with Scenes, we can specify a region of interest and limit our data to only vectors within that region. Below we specify a neighborhood in Naples, Florida."
   ]
  },
  {
   "cell_type": "code",
   "execution_count": 6,
   "metadata": {},
   "outputs": [],
   "source": [
    "feature = {\n",
    "    \"type\":\"Feature\",\n",
    "    \"geometry\":{\n",
    "        \"type\":\"Polygon\",\n",
    "        \"coordinates\":[[\n",
    "            [-81.78796863660682,26.127869173557826],\n",
    "            [-81.78312992971043,26.127857614741302],\n",
    "            [-81.78319001224008,26.12398143467182],\n",
    "            [-81.7848036281357,26.123280163811074],\n",
    "            [-81.7854559413681,26.12092201264997],\n",
    "            [-81.78557610511778,26.11692229519099],\n",
    "            [-81.78842568371326,26.116244101898687],\n",
    "            [-81.7903482912661,26.121222564053838],\n",
    "            [-81.78796863660682,26.127869173557826]\n",
    "        ]]\n",
    "    },\n",
    "    \"properties\": {}\n",
    "}\n",
    "fc = {\"type\": \"FeatureCollection\", \"features\": [feature], \"properties\": {}}"
   ]
  },
  {
   "cell_type": "code",
   "execution_count": 25,
   "metadata": {},
   "outputs": [
    {
     "data": {
      "application/vnd.jupyter.widget-view+json": {
       "model_id": "73b4ff347d7544609086a69648497d9b",
       "version_major": 2,
       "version_minor": 0
      },
      "text/plain": [
       "Map(basemap={'url': 'https://{s}.tile.openstreetmap.org/{z}/{x}/{y}.png', 'max_zoom': 19, 'attribution': 'Map …"
      ]
     },
     "metadata": {},
     "output_type": "display_data"
    }
   ],
   "source": [
    "from ipyleaflet import Map, GeoJSON\n",
    "m = Map(center=(26.12325, -81.78678), zoom=15)\n",
    "m.add_layer(GeoJSON(data=fc))\n",
    "m"
   ]
  },
  {
   "cell_type": "markdown",
   "metadata": {},
   "source": [
    "We can apply a region of interest to a FeatureCollection using the [filter](https://docs.descarteslabs.com/descarteslabs/vectors/docs/featurecollection.html#descarteslabs.vectors.featurecollection.FeatureCollection.list) method. This returns a new FeatureCollection bounded by the geometry."
   ]
  },
  {
   "cell_type": "code",
   "execution_count": 8,
   "metadata": {},
   "outputs": [],
   "source": [
    "naples = buildings.filter(geometry=feature)"
   ]
  },
  {
   "cell_type": "markdown",
   "metadata": {},
   "source": [
    "While we have applied a filter to a FeatureCollection, we haven't retreived the features yet. The [features](https://docs.descarteslabs.com/descarteslabs/vectors/docs/featurecollection.html#descarteslabs.vectors.featurecollection.FeatureCollection.list) method returns a generator which can yield vector data matching our filter."
   ]
  },
  {
   "cell_type": "code",
   "execution_count": 9,
   "metadata": {},
   "outputs": [],
   "source": [
    "naples_buildings = [feat for feat in naples.features()]"
   ]
  },
  {
   "cell_type": "code",
   "execution_count": 10,
   "metadata": {},
   "outputs": [
    {
     "data": {
      "text/plain": [
       "279"
      ]
     },
     "execution_count": 10,
     "metadata": {},
     "output_type": "execute_result"
    }
   ],
   "source": [
    "len(naples_buildings)"
   ]
  },
  {
   "cell_type": "markdown",
   "metadata": {},
   "source": [
    "There are 279 buildings in this neighborhood. Each object returned by [features](https://docs.descarteslabs.com/descarteslabs/vectors/docs/featurecollection.html#descarteslabs.vectors.featurecollection.FeatureCollection.list) is a [Feature](https://docs.descarteslabs.com/descarteslabs/vectors/docs/feature.html) object with a geometry, properties, and metadata. "
   ]
  },
  {
   "cell_type": "code",
   "execution_count": 11,
   "metadata": {},
   "outputs": [
    {
     "data": {
      "text/plain": [
       "{'properties': {},\n",
       " 'geometry': {'type': 'Polygon',\n",
       "  'coordinates': (((-81.785801, 26.123023),\n",
       "    (-81.785746, 26.12301),\n",
       "    (-81.785724, 26.123082),\n",
       "    (-81.785914, 26.123127),\n",
       "    (-81.785964, 26.122962),\n",
       "    (-81.785828, 26.12293),\n",
       "    (-81.785801, 26.123023)),)},\n",
       " 'id': '89d3b86362b22d237f40f1248f77b23918b527abd4ce6c713b74162e58161796_9e6a8352f2324e5c',\n",
       " 'type': 'Feature'}"
      ]
     },
     "execution_count": 11,
     "metadata": {},
     "output_type": "execute_result"
    }
   ],
   "source": [
    "naples_buildings[0].geojson"
   ]
  },
  {
   "cell_type": "markdown",
   "metadata": {},
   "source": [
    "A Feature's geometry field references is a Python shapely object."
   ]
  },
  {
   "cell_type": "code",
   "execution_count": 12,
   "metadata": {},
   "outputs": [
    {
     "data": {
      "image/svg+xml": [
       "<svg xmlns=\"http://www.w3.org/2000/svg\" xmlns:xlink=\"http://www.w3.org/1999/xlink\" width=\"100.0\" height=\"100.0\" viewBox=\"-81.7859736 26.1229204 0.0002592000000021244 0.00021619999999700212\" preserveAspectRatio=\"xMinYMin meet\"><g transform=\"matrix(1,0,0,-1,0,52.246057)\"><path fill-rule=\"evenodd\" fill=\"#66cc99\" stroke=\"#555555\" stroke-width=\"5.184000000042488e-06\" opacity=\"0.6\" d=\"M -81.785801,26.123023 L -81.785746,26.12301 L -81.785724,26.123082 L -81.785914,26.123127 L -81.785964,26.122962 L -81.785828,26.12293 L -81.785801,26.123023 z\" /></g></svg>"
      ],
      "text/plain": [
       "<shapely.geometry.polygon.Polygon at 0x7f609046f080>"
      ]
     },
     "execution_count": 12,
     "metadata": {},
     "output_type": "execute_result"
    }
   ],
   "source": [
    "naples_buildings[0].geometry"
   ]
  },
  {
   "cell_type": "markdown",
   "metadata": {},
   "source": [
    "## Building Footprint Area Analysis\n",
    "______________________\n",
    "\n",
    "Let's now do a simple analysis with the building footprints - calculating the area in square meters of the building extent. This simple metric is trickier than one would think because we have to convert the units from square degrees to a more natural unit. Because a unit of degrees lat by lon maps to a different area at different places on the Earth, we will have to reproject the coordinates.\n",
    "\n",
    "Reprojecting is relatively easy to do with a package called `pyproj`. We initialize the projection with our original coordinate system. EPSG codes are often used to denote significant projection systems. Check out a list of EPSG codes [here](https://spatialreference.org/ref/epsg/). The target is an equal area projection which perserves true areas of objects across the globe (though it may distorts angles and scales)."
   ]
  },
  {
   "cell_type": "code",
   "execution_count": 13,
   "metadata": {},
   "outputs": [],
   "source": [
    "import pyproj\n",
    "from shapely.ops import transform\n",
    "from functools import partial\n",
    "\n",
    "def get_area(geom):\n",
    "    geom_aea = transform(\n",
    "    partial(\n",
    "        pyproj.transform,\n",
    "        pyproj.Proj(init='EPSG:4326'),\n",
    "        pyproj.Proj(\n",
    "            proj='aea',\n",
    "            lat_1=geom.bounds[1],\n",
    "            lat_2=geom.bounds[3])),\n",
    "    geom)\n",
    "    return geom_aea.area"
   ]
  },
  {
   "cell_type": "markdown",
   "metadata": {},
   "source": [
    "With the new projection, we can transform the shapely geometry object and calculate the area in the appropriate units."
   ]
  },
  {
   "cell_type": "code",
   "execution_count": 14,
   "metadata": {},
   "outputs": [
    {
     "data": {
      "text/plain": [
       "311.7928349240006"
      ]
     },
     "execution_count": 14,
     "metadata": {},
     "output_type": "execute_result"
    }
   ],
   "source": [
    "# area in square meters\n",
    "get_area(naples_buildings[0].geometry)"
   ]
  },
  {
   "cell_type": "code",
   "execution_count": 15,
   "metadata": {},
   "outputs": [
    {
     "data": {
      "text/plain": [
       "3356.10689583845"
      ]
     },
     "execution_count": 15,
     "metadata": {},
     "output_type": "execute_result"
    }
   ],
   "source": [
    "# area in square feet\n",
    "get_area(naples_buildings[0].geometry) * 10.7639"
   ]
  },
  {
   "cell_type": "code",
   "execution_count": 16,
   "metadata": {},
   "outputs": [],
   "source": [
    "naples_areas = [get_area(feat.geometry) for feat in naples_buildings]"
   ]
  },
  {
   "cell_type": "code",
   "execution_count": 17,
   "metadata": {},
   "outputs": [
    {
     "data": {
      "image/png": "[encoded data removed]",
      "text/plain": [
       "<Figure size 432x288 with 1 Axes>"
      ]
     },
     "metadata": {
      "needs_background": "light"
     },
     "output_type": "display_data"
    }
   ],
   "source": [
    "import matplotlib.pyplot as plt\n",
    "%matplotlib inline\n",
    "plt.hist(naples_areas)\n",
    "plt.xlabel('Area in sq meters')\n",
    "plt.ylabel('Count')\n",
    "pass"
   ]
  },
  {
   "cell_type": "markdown",
   "metadata": {},
   "source": [
    "For this neighborhood, the median building area is around 400 square meters with a long right tail and a few very small structures."
   ]
  },
  {
   "cell_type": "markdown",
   "metadata": {},
   "source": [
    "## Working with GeoJSONs\n",
    "____________________"
   ]
  },
  {
   "cell_type": "markdown",
   "metadata": {},
   "source": [
    "We are often interested in doing analysis over collections of Features. One handy library to work with vector data is [GeoPandas](http://geopandas.org/). Let's first write out our Features into a GeoJSON FeatureCollection."
   ]
  },
  {
   "cell_type": "code",
   "execution_count": 18,
   "metadata": {},
   "outputs": [],
   "source": [
    "naples_fc = {\"type\": \"FeatureCollection\", \"features\": [], \"properties\": {}}\n",
    "for feat in naples_buildings:\n",
    "    f = feat.geojson \n",
    "    f['properties']['area'] = get_area(feat.geometry)\n",
    "    naples_fc['features'].append(f)"
   ]
  },
  {
   "cell_type": "markdown",
   "metadata": {},
   "source": [
    "We can save our data to read in later as a GeoJSON file. "
   ]
  },
  {
   "cell_type": "code",
   "execution_count": 19,
   "metadata": {},
   "outputs": [],
   "source": [
    "import json\n",
    "filename = 'naples_file.geojson'\n",
    "with open(filename, 'w') as f:\n",
    "    json.dump(naples_fc, f)"
   ]
  },
  {
   "cell_type": "markdown",
   "metadata": {},
   "source": [
    "We can now read our data into a dataframe."
   ]
  },
  {
   "cell_type": "code",
   "execution_count": 20,
   "metadata": {},
   "outputs": [],
   "source": [
    "import geopandas\n",
    "filename = 'naples_file.geojson'\n",
    "naples_df = geopandas.read_file(filename)"
   ]
  },
  {
   "cell_type": "code",
   "execution_count": 21,
   "metadata": {},
   "outputs": [
    {
     "data": {
      "text/html": [
       "<div>\n",
       "<style scoped>\n",
       "    .dataframe tbody tr th:only-of-type {\n",
       "        vertical-align: middle;\n",
       "    }\n",
       "\n",
       "    .dataframe tbody tr th {\n",
       "        vertical-align: top;\n",
       "    }\n",
       "\n",
       "    .dataframe thead th {\n",
       "        text-align: right;\n",
       "    }\n",
       "</style>\n",
       "<table border=\"1\" class=\"dataframe\">\n",
       "  <thead>\n",
       "    <tr style=\"text-align: right;\">\n",
       "      <th></th>\n",
       "      <th>id</th>\n",
       "      <th>area</th>\n",
       "      <th>geometry</th>\n",
       "    </tr>\n",
       "  </thead>\n",
       "  <tbody>\n",
       "    <tr>\n",
       "      <th>0</th>\n",
       "      <td>89d3b86362b22d237f40f1248f77b23918b527abd4ce6c...</td>\n",
       "      <td>311.792835</td>\n",
       "      <td>POLYGON ((-81.78580100000001 26.123023, -81.78...</td>\n",
       "    </tr>\n",
       "    <tr>\n",
       "      <th>1</th>\n",
       "      <td>89d3b86362b22d237f40f1248f77b23918b527abd4ce6c...</td>\n",
       "      <td>373.213458</td>\n",
       "      <td>POLYGON ((-81.784938 26.126033, -81.785127 26....</td>\n",
       "    </tr>\n",
       "    <tr>\n",
       "      <th>2</th>\n",
       "      <td>89d3b86362b22d237f40f1248f77b23918b527abd4ce6c...</td>\n",
       "      <td>307.380580</td>\n",
       "      <td>POLYGON ((-81.787291 26.123906, -81.787396 26....</td>\n",
       "    </tr>\n",
       "    <tr>\n",
       "      <th>3</th>\n",
       "      <td>89d3b86362b22d237f40f1248f77b23918b527abd4ce6c...</td>\n",
       "      <td>618.988746</td>\n",
       "      <td>POLYGON ((-81.78627 26.12073, -81.786492999999...</td>\n",
       "    </tr>\n",
       "    <tr>\n",
       "      <th>4</th>\n",
       "      <td>89d3b86362b22d237f40f1248f77b23918b527abd4ce6c...</td>\n",
       "      <td>287.411760</td>\n",
       "      <td>POLYGON ((-81.785388 26.122478, -81.785534 26....</td>\n",
       "    </tr>\n",
       "  </tbody>\n",
       "</table>\n",
       "</div>"
      ],
      "text/plain": [
       "                                                  id        area  \\\n",
       "0  89d3b86362b22d237f40f1248f77b23918b527abd4ce6c...  311.792835   \n",
       "1  89d3b86362b22d237f40f1248f77b23918b527abd4ce6c...  373.213458   \n",
       "2  89d3b86362b22d237f40f1248f77b23918b527abd4ce6c...  307.380580   \n",
       "3  89d3b86362b22d237f40f1248f77b23918b527abd4ce6c...  618.988746   \n",
       "4  89d3b86362b22d237f40f1248f77b23918b527abd4ce6c...  287.411760   \n",
       "\n",
       "                                            geometry  \n",
       "0  POLYGON ((-81.78580100000001 26.123023, -81.78...  \n",
       "1  POLYGON ((-81.784938 26.126033, -81.785127 26....  \n",
       "2  POLYGON ((-81.787291 26.123906, -81.787396 26....  \n",
       "3  POLYGON ((-81.78627 26.12073, -81.786492999999...  \n",
       "4  POLYGON ((-81.785388 26.122478, -81.785534 26....  "
      ]
     },
     "execution_count": 21,
     "metadata": {},
     "output_type": "execute_result"
    }
   ],
   "source": [
    "naples_df.head()"
   ]
  },
  {
   "cell_type": "markdown",
   "metadata": {},
   "source": [
    "We can compute aggregated stats over columns with a `pandas` like interface."
   ]
  },
  {
   "cell_type": "code",
   "execution_count": 22,
   "metadata": {},
   "outputs": [
    {
     "data": {
      "text/plain": [
       "414.1909843819785"
      ]
     },
     "execution_count": 22,
     "metadata": {},
     "output_type": "execute_result"
    }
   ],
   "source": [
    "naples_df['area'].median()"
   ]
  },
  {
   "cell_type": "markdown",
   "metadata": {},
   "source": [
    "It's also easy to make a plot of our buildings with the plot method in geopandas. Buildings are colored by area. We can see from this visualization that many of the buildings with low area are detached garages or similar."
   ]
  },
  {
   "cell_type": "code",
   "execution_count": 23,
   "metadata": {},
   "outputs": [
    {
     "data": {
      "image/png": "[encoded data removed]",
      "text/plain": [
       "<Figure size 720x720 with 2 Axes>"
      ]
     },
     "metadata": {
      "needs_background": "light"
     },
     "output_type": "display_data"
    }
   ],
   "source": [
    "fig, ax = plt.subplots(1, 1, figsize=(10, 10))\n",
    "naples_df.plot(column='area', ax=ax, legend=True)\n",
    "pass"
   ]
  },
  {
   "cell_type": "markdown",
   "metadata": {},
   "source": [
    "## Creating New FeatureCollections\n",
    "__________________________\n",
    "\n",
    "For small collection of data, we can read and write GeoJSON files. For larger collections of vector data, we will want to save our data as a new FeatureCollection. We can do that by using the [create](https://docs.descarteslabs.com/descarteslabs/vectors/docs/featurecollection.html#descarteslabs.vectors.featurecollection.FeatureCollection.create) method, specifying our new product id. In this example, we'll add a new product that represents the building areas we calculated in the previous section. "
   ]
  },
  {
   "cell_type": "code",
   "execution_count": 32,
   "metadata": {},
   "outputs": [],
   "source": [
    "name = 'buildings-demo'\n",
    "new_fc = dl.vectors.FeatureCollection.create(\n",
    "    product_id=name, \n",
    "    title='Buildings with Areas', \n",
    "    description='A demo FeatureCollection with building footprints and areas'\n",
    ")"
   ]
  },
  {
   "cell_type": "markdown",
   "metadata": {},
   "source": [
    "FeatureCollections that are created by you can be found with ids that are prepended by a special user hash. These ids are useful as a way to retrieve the original product at a later time. The [list](https://docs.descarteslabs.com/descarteslabs/vectors/docs/featurecollection.html#descarteslabs.vectors.featurecollection.FeatureCollection.create) method will also show products that you have created. "
   ]
  },
  {
   "cell_type": "code",
   "execution_count": 33,
   "metadata": {},
   "outputs": [],
   "source": [
    "pid = dl.Auth().namespace + ':' + name\n",
    "new_fc = dl.vectors.FeatureCollection(pid)"
   ]
  },
  {
   "cell_type": "markdown",
   "metadata": {},
   "source": [
    "Our new product has no data in it yet. We can add features to our product with the [add](https://docs.descarteslabs.com/descarteslabs/vectors/docs/featurecollection.html#descarteslabs.vectors.featurecollection.FeatureCollection.create) method. For uploading a large number of features consider using [upload](https://docs.descarteslabs.com/descarteslabs/vectors/docs/featurecollection.html#descarteslabs.vectors.featurecollection.FeatureCollection.create) as well."
   ]
  },
  {
   "cell_type": "code",
   "execution_count": 34,
   "metadata": {},
   "outputs": [
    {
     "data": {
      "text/plain": [
       "0"
      ]
     },
     "execution_count": 34,
     "metadata": {},
     "output_type": "execute_result"
    }
   ],
   "source": [
    "new_fc.count()"
   ]
  },
  {
   "cell_type": "code",
   "execution_count": 35,
   "metadata": {},
   "outputs": [],
   "source": [
    "buildings_with_area = []\n",
    "for feat in naples_buildings:\n",
    "    feat.properties['area'] = int(get_area(feat.geometry))\n",
    "    buildings_with_area.append(feat)"
   ]
  },
  {
   "cell_type": "code",
   "execution_count": 36,
   "metadata": {},
   "outputs": [
    {
     "name": "stderr",
     "output_type": "stream",
     "text": [
      "WARNING:root:create_features: feature collection has more than 100 features, will batch by 100 but consider using upload_features\n"
     ]
    }
   ],
   "source": [
    "new_fc.add(buildings_with_area)\n",
    "pass"
   ]
  },
  {
   "cell_type": "code",
   "execution_count": 37,
   "metadata": {},
   "outputs": [
    {
     "data": {
      "text/plain": [
       "279"
      ]
     },
     "execution_count": 37,
     "metadata": {},
     "output_type": "execute_result"
    }
   ],
   "source": [
    "new_fc.count()"
   ]
  },
  {
   "cell_type": "markdown",
   "metadata": {},
   "source": [
    "Finally, we can retrieve features using the [filter](https://docs.descarteslabs.com/descarteslabs/vectors/docs/featurecollection.html#descarteslabs.vectors.featurecollection.FeatureCollection.filter) command again, now filtering over the area field."
   ]
  },
  {
   "cell_type": "code",
   "execution_count": 38,
   "metadata": {},
   "outputs": [],
   "source": [
    "from descarteslabs import properties as p\n",
    "small_buildings = [feat for feat in (new_fc.filter(properties=(p.area < 100))).features()]"
   ]
  },
  {
   "cell_type": "code",
   "execution_count": 39,
   "metadata": {},
   "outputs": [
    {
     "data": {
      "text/plain": [
       "3"
      ]
     },
     "execution_count": 39,
     "metadata": {},
     "output_type": "execute_result"
    }
   ],
   "source": [
    "len(small_buildings)"
   ]
  },
  {
   "cell_type": "code",
   "execution_count": 40,
   "metadata": {},
   "outputs": [
    {
     "name": "stdout",
     "output_type": "stream",
     "text": [
      "98\n",
      "67\n",
      "81\n"
     ]
    }
   ],
   "source": [
    "for feat in small_buildings:\n",
    "    print(feat.properties['area'])"
   ]
  },
  {
   "cell_type": "markdown",
   "metadata": {},
   "source": [
    "There are three buildings with areas less than 100 square meters. When we are done with a FeatureCollection product, we can remove it and all the data it contains using the [delete](https://docs.descarteslabs.com/descarteslabs/vectors/docs/featurecollection.html#descarteslabs.vectors.featurecollection.FeatureCollection.delete) method. "
   ]
  },
  {
   "cell_type": "code",
   "execution_count": 41,
   "metadata": {},
   "outputs": [],
   "source": [
    "new_fc.delete()"
   ]
  },
  {
   "cell_type": "markdown",
   "metadata": {},
   "source": [
    "## Wrap Up\n",
    "______________________\n",
    "\n",
    "In this notebook, we have investigated building areas using a building footprint dataset. In the process we have:\n",
    "\n",
    "* Used [FeatureCollection.list](https://docs.descarteslabs.com/descarteslabs/vectors/docs/featurecollection.html#descarteslabs.vectors.featurecollection.FeatureCollection.list) to find available Vector products.\n",
    "* Used [FeatureCollection.count](https://docs.descarteslabs.com/descarteslabs/vectors/docs/featurecollection.html#descarteslabs.vectors.featurecollection.FeatureCollection.count) to count total number of features.\n",
    "* Used [FeatureCollection.filter](https://docs.descarteslabs.com/descarteslabs/vectors/docs/featurecollection.html#descarteslabs.vectors.featurecollection.FeatureCollection.filter) to narrow down our search critera over areas of interest or properties.\n",
    "* Retrieve vectors using [FeatureCollection.features](https://docs.descarteslabs.com/descarteslabs/vectors/docs/featurecollection.html#descarteslabs.vectors.featurecollection.FeatureCollection.features)\n",
    "* Used [Feature.geometry](https://docs.descarteslabs.com/descarteslabs/vectors/docs/feature.html#descarteslabs.vectors.feature.Feature.geometry) to find the area of the buildings after reprojecting with `pyproj`.\n",
    "* Used [Feature.geojson](https://docs.descarteslabs.com/descarteslabs/vectors/docs/feature.html#descarteslabs.vectors.feature.Feature.geojson) to write out our Features into disk and read them back in with `geopandas`.\n",
    "* Add new properties to [Feature.properties](https://docs.descarteslabs.com/descarteslabs/vectors/docs/feature.html#descarteslabs.vectors.feature.Feature.properties).\n",
    "* Created a new Feature Collection with [FeatureCollection.create](https://docs.descarteslabs.com/descarteslabs/vectors/docs/featurecollection.html#descarteslabs.vectors.featurecollection.FeatureCollection.create).\n",
    "* Add new data to a FeatureCollection with \n",
    "[FeatureCollection.add](https://docs.descarteslabs.com/descarteslabs/vectors/docs/featurecollection.html#descarteslabs.vectors.featurecollection.FeatureCollection.add).\n",
    "* Removed a FeatureCollection with [FeatureCollection.delete](https://docs.descarteslabs.com/descarteslabs/vectors/docs/featurecollection.html#descarteslabs.vectors.featurecollection.FeatureCollection.delete)."
   ]
  },
  {
   "cell_type": "markdown",
   "metadata": {},
   "source": [
    "## Resources\n",
    "_______________\n",
    "\n",
    "[1] [Microsoft Buildings information](https://blogs.bing.com/maps/2018-06/microsoft-releases-125-million-building-footprints-in-the-us-as-open-data)\n",
    "\n",
    "[2] [Vectors documentation](https://blogs.bing.com/maps/2018-06/microsoft-releases-125-million-building-footprints-in-the-us-as-open-data)"
   ]
  }
 ],
 "metadata": {
  "kernelspec": {
   "display_name": "Python 3",
   "language": "python",
   "name": "python3"
  },
  "language_info": {
   "codemirror_mode": {
    "name": "ipython",
    "version": 3
   },
   "file_extension": ".py",
   "mimetype": "text/x-python",
   "name": "python",
   "nbconvert_exporter": "python",
   "pygments_lexer": "ipython3",
   "version": "3.6.8"
  },
  "nteract": {
   "version": "0.12.3"
  }
 },
 "nbformat": 4,
 "nbformat_minor": 2
}
